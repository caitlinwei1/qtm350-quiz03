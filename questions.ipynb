{
 "cells": [
  {
   "cell_type": "code",
   "execution_count": 6,
   "metadata": {},
   "outputs": [
    {
     "name": "stdout",
     "output_type": "stream",
     "text": [
      "Emory ID: 2551023\n"
     ]
    }
   ],
   "source": [
    "# Print your Emory ID here\n",
    "print(\"Emory ID: 2551023\")"
   ]
  },
  {
   "cell_type": "code",
   "execution_count": 7,
   "metadata": {},
   "outputs": [],
   "source": [
    "# Import the necessary libraries and load the data\n",
    "import numpy as np \n",
    "import pandas as pd\n",
    "import matplotlib.pyplot as plt\n",
    "import seaborn as sns\n",
    "df=pd.read_csv('passwords.csv')"
   ]
  },
  {
   "cell_type": "markdown",
   "metadata": {},
   "source": [
    "1. An online password attack is when someone tries to hack your account by simply trying a very large number of username/password combinations to access your account. For each `password` in our dataset, the `value` column shows the amount of time it is estimated to take an “online password attack” to hack your account. The column `time_unit` shows the units of that time value (e.g., hours, days, years, etc.). It would be much nicer if our values were of the same units so we can more easily compare the “online password guessing time” for each password. So your first task is to convert all of the values to units of hours (assume the conversion units provided below, e.g., 1 day is 24 hours, 1 week is 168 hours, etc)."
   ]
  },
  {
   "cell_type": "code",
   "execution_count": 8,
   "metadata": {},
   "outputs": [],
   "source": [
    "# Your answer here \n",
    "units = {\n",
    "    \"seconds\": 1 / 3600,\n",
    "    \"minutes\": 1 / 60,\n",
    "    \"hours\":1,\n",
    "    \"days\": 24,\n",
    "    \"weeks\": 168,\n",
    "    \"months\": 720,\n",
    "    \"years\": 8760,\n",
    "}\n",
    "df['value_in_hours'] = df.apply(\n",
    "    lambda row: row['value'] * units.get(row['time_unit'], 1), axis=1\n",
    ")\n"
   ]
  },
  {
   "cell_type": "markdown",
   "metadata": {},
   "source": [
    "2. Are there any missing values in the dataset? If so, how many? After you have counted the, please drop them from the dataset.\n",
    "- there are 7 missing values in each variable. "
   ]
  },
  {
   "cell_type": "code",
   "execution_count": 9,
   "metadata": {},
   "outputs": [
    {
     "name": "stdout",
     "output_type": "stream",
     "text": [
      "rank                 7\n",
      "password             7\n",
      "category             7\n",
      "value                7\n",
      "time_unit            7\n",
      "offline_crack_sec    7\n",
      "rank_alt             7\n",
      "strength             7\n",
      "font_size            7\n",
      "value_in_hours       7\n",
      "dtype: int64\n"
     ]
    }
   ],
   "source": [
    "# Your answer here\n",
    "print(df.isnull().sum())\n",
    "df=df.dropna()"
   ]
  },
  {
   "cell_type": "markdown",
   "metadata": {},
   "source": [
    "3.Which password category has the highest average strength? \n",
    "- Nerdy-pop has the highest average strength. "
   ]
  },
  {
   "cell_type": "code",
   "execution_count": 10,
   "metadata": {},
   "outputs": [
    {
     "data": {
      "text/plain": [
       "category\n",
       "nerdy-pop              14.000000\n",
       "sport                   8.000000\n",
       "password-related        7.866667\n",
       "animal                  7.551724\n",
       "cool-macho              7.215190\n",
       "name                    7.191257\n",
       "fluffy                  6.772727\n",
       "rebellious-rude         6.727273\n",
       "simple-alphanumeric     5.852459\n",
       "food                    4.363636\n",
       "Name: strength, dtype: float64"
      ]
     },
     "execution_count": 10,
     "metadata": {},
     "output_type": "execute_result"
    }
   ],
   "source": [
    "# Your answer here\n",
    "df.groupby('category')['strength'].mean().sort_values(ascending=False)"
   ]
  },
  {
   "cell_type": "markdown",
   "metadata": {},
   "source": [
    "4. What is the rank of the password 'qwerty'?\n",
    "- the rank is 5"
   ]
  },
  {
   "cell_type": "code",
   "execution_count": 11,
   "metadata": {},
   "outputs": [
    {
     "data": {
      "text/plain": [
       "5.0"
      ]
     },
     "execution_count": 11,
     "metadata": {},
     "output_type": "execute_result"
    }
   ],
   "source": [
    "# Your answer here\n",
    "df.query(\"password=='qwerty'\")['rank'].values[0]"
   ]
  },
  {
   "cell_type": "markdown",
   "metadata": {},
   "source": [
    "5. How many passwords have more than 8 characters?\n",
    "- only 1"
   ]
  },
  {
   "cell_type": "code",
   "execution_count": 12,
   "metadata": {},
   "outputs": [
    {
     "data": {
      "text/plain": [
       "1"
      ]
     },
     "execution_count": 12,
     "metadata": {},
     "output_type": "execute_result"
    }
   ],
   "source": [
    "# Your answer here\n",
    "df[df['password'].str.len()>8]['password'].count()"
   ]
  },
  {
   "cell_type": "markdown",
   "metadata": {},
   "source": [
    "6. How many passwords do not contain a number?\n",
    "- 446"
   ]
  },
  {
   "cell_type": "code",
   "execution_count": 13,
   "metadata": {},
   "outputs": [
    {
     "data": {
      "text/plain": [
       "446"
      ]
     },
     "execution_count": 13,
     "metadata": {},
     "output_type": "execute_result"
    }
   ],
   "source": [
    "# Your answer here\n",
    "df[~df['password'].str.contains(r'\\d')]['password'].count()"
   ]
  },
  {
   "cell_type": "markdown",
   "metadata": {},
   "source": [
    "7. What is the average time in hours needed to crack these passwords that begin with `123`? How does this compare to the average of all passwords in the dataset?\n",
    "- The average time in hours need that begins with 123 is about 107.3 which is much less than average of all passwords (13917.6)"
   ]
  },
  {
   "cell_type": "code",
   "execution_count": 14,
   "metadata": {},
   "outputs": [
    {
     "name": "stdout",
     "output_type": "stream",
     "text": [
      "107.30332438271606\n",
      "13917.565247227776\n"
     ]
    }
   ],
   "source": [
    "# Your answer here\n",
    "avg1=df[df['password'].str.startswith('123')]['value_in_hours'].mean()\n",
    "avg2=df['value_in_hours'].mean()\n",
    "print(avg1)\n",
    "print(avg2)"
   ]
  },
  {
   "cell_type": "markdown",
   "metadata": {},
   "source": [
    "8. What percentage of passwords are of the `simple-alphanumeric` category?\n",
    "- there are 12.2 percentage of passwards"
   ]
  },
  {
   "cell_type": "code",
   "execution_count": 15,
   "metadata": {},
   "outputs": [
    {
     "data": {
      "text/plain": [
       "12.2"
      ]
     },
     "execution_count": 15,
     "metadata": {},
     "output_type": "execute_result"
    }
   ],
   "source": [
    "# Your answer here\n",
    "total_passwords = df.shape[0]\n",
    "count = df[df['category'] == 'simple-alphanumeric'].shape[0]\n",
    "(count / total_passwords) * 100"
   ]
  },
  {
   "cell_type": "markdown",
   "metadata": {},
   "source": [
    "9. How many passwords have a strength rating below 5? What is their percentage?\n",
    "- 73 password have strength below 5, with 14.6 percent."
   ]
  },
  {
   "cell_type": "code",
   "execution_count": 16,
   "metadata": {},
   "outputs": [
    {
     "name": "stdout",
     "output_type": "stream",
     "text": [
      "73\n"
     ]
    },
    {
     "data": {
      "text/plain": [
       "14.6"
      ]
     },
     "execution_count": 16,
     "metadata": {},
     "output_type": "execute_result"
    }
   ],
   "source": [
    "# Your answer here\n",
    "count2=df[df['strength'] < 5].shape[0]\n",
    "print(count2)\n",
    "(count2 / total_passwords) * 100\n"
   ]
  },
  {
   "cell_type": "markdown",
   "metadata": {},
   "source": [
    "10. What is the most common password in the dataset?\n",
    "-password is the most common one"
   ]
  },
  {
   "cell_type": "code",
   "execution_count": 17,
   "metadata": {},
   "outputs": [
    {
     "data": {
      "text/plain": [
       "'password'"
      ]
     },
     "execution_count": 17,
     "metadata": {},
     "output_type": "execute_result"
    }
   ],
   "source": [
    "# Your answer here\n",
    "df['password'].value_counts().idxmax()"
   ]
  },
  {
   "cell_type": "markdown",
   "metadata": {},
   "source": [
    "11. How many unique passwords are there in each category, and what is their average length?"
   ]
  },
  {
   "cell_type": "code",
   "execution_count": 18,
   "metadata": {},
   "outputs": [
    {
     "data": {
      "text/html": [
       "<div>\n",
       "<style scoped>\n",
       "    .dataframe tbody tr th:only-of-type {\n",
       "        vertical-align: middle;\n",
       "    }\n",
       "\n",
       "    .dataframe tbody tr th {\n",
       "        vertical-align: top;\n",
       "    }\n",
       "\n",
       "    .dataframe thead th {\n",
       "        text-align: right;\n",
       "    }\n",
       "</style>\n",
       "<table border=\"1\" class=\"dataframe\">\n",
       "  <thead>\n",
       "    <tr style=\"text-align: right;\">\n",
       "      <th></th>\n",
       "      <th>category</th>\n",
       "      <th>unique_passwords</th>\n",
       "      <th>average_length</th>\n",
       "    </tr>\n",
       "  </thead>\n",
       "  <tbody>\n",
       "    <tr>\n",
       "      <th>0</th>\n",
       "      <td>animal</td>\n",
       "      <td>29</td>\n",
       "      <td>6.206897</td>\n",
       "    </tr>\n",
       "    <tr>\n",
       "      <th>1</th>\n",
       "      <td>cool-macho</td>\n",
       "      <td>79</td>\n",
       "      <td>6.253165</td>\n",
       "    </tr>\n",
       "    <tr>\n",
       "      <th>2</th>\n",
       "      <td>fluffy</td>\n",
       "      <td>44</td>\n",
       "      <td>5.795455</td>\n",
       "    </tr>\n",
       "    <tr>\n",
       "      <th>3</th>\n",
       "      <td>food</td>\n",
       "      <td>11</td>\n",
       "      <td>6.090909</td>\n",
       "    </tr>\n",
       "    <tr>\n",
       "      <th>4</th>\n",
       "      <td>name</td>\n",
       "      <td>183</td>\n",
       "      <td>6.218579</td>\n",
       "    </tr>\n",
       "    <tr>\n",
       "      <th>5</th>\n",
       "      <td>nerdy-pop</td>\n",
       "      <td>30</td>\n",
       "      <td>6.633333</td>\n",
       "    </tr>\n",
       "    <tr>\n",
       "      <th>6</th>\n",
       "      <td>password-related</td>\n",
       "      <td>15</td>\n",
       "      <td>6.333333</td>\n",
       "    </tr>\n",
       "    <tr>\n",
       "      <th>7</th>\n",
       "      <td>rebellious-rude</td>\n",
       "      <td>11</td>\n",
       "      <td>6.363636</td>\n",
       "    </tr>\n",
       "    <tr>\n",
       "      <th>8</th>\n",
       "      <td>simple-alphanumeric</td>\n",
       "      <td>61</td>\n",
       "      <td>5.934426</td>\n",
       "    </tr>\n",
       "    <tr>\n",
       "      <th>9</th>\n",
       "      <td>sport</td>\n",
       "      <td>37</td>\n",
       "      <td>6.513514</td>\n",
       "    </tr>\n",
       "  </tbody>\n",
       "</table>\n",
       "</div>"
      ],
      "text/plain": [
       "              category  unique_passwords  average_length\n",
       "0               animal                29        6.206897\n",
       "1           cool-macho                79        6.253165\n",
       "2               fluffy                44        5.795455\n",
       "3                 food                11        6.090909\n",
       "4                 name               183        6.218579\n",
       "5            nerdy-pop                30        6.633333\n",
       "6     password-related                15        6.333333\n",
       "7      rebellious-rude                11        6.363636\n",
       "8  simple-alphanumeric                61        5.934426\n",
       "9                sport                37        6.513514"
      ]
     },
     "execution_count": 18,
     "metadata": {},
     "output_type": "execute_result"
    }
   ],
   "source": [
    "# Your answer here\n",
    "df['password_length'] =df['password'].str.len()\n",
    "df.groupby('category').agg(unique_passwords=('password', 'nunique'),    \n",
    "    average_length=('password_length', 'mean')).reset_index()"
   ]
  },
  {
   "cell_type": "markdown",
   "metadata": {},
   "source": [
    "12. What is the median rank and strength for passwords of each length?"
   ]
  },
  {
   "cell_type": "code",
   "execution_count": 19,
   "metadata": {},
   "outputs": [
    {
     "data": {
      "text/html": [
       "<div>\n",
       "<style scoped>\n",
       "    .dataframe tbody tr th:only-of-type {\n",
       "        vertical-align: middle;\n",
       "    }\n",
       "\n",
       "    .dataframe tbody tr th {\n",
       "        vertical-align: top;\n",
       "    }\n",
       "\n",
       "    .dataframe thead th {\n",
       "        text-align: right;\n",
       "    }\n",
       "</style>\n",
       "<table border=\"1\" class=\"dataframe\">\n",
       "  <thead>\n",
       "    <tr style=\"text-align: right;\">\n",
       "      <th></th>\n",
       "      <th>password_length</th>\n",
       "      <th>median_rank</th>\n",
       "      <th>median_strength</th>\n",
       "    </tr>\n",
       "  </thead>\n",
       "  <tbody>\n",
       "    <tr>\n",
       "      <th>0</th>\n",
       "      <td>4</td>\n",
       "      <td>326.0</td>\n",
       "      <td>6.0</td>\n",
       "    </tr>\n",
       "    <tr>\n",
       "      <th>1</th>\n",
       "      <td>5</td>\n",
       "      <td>343.0</td>\n",
       "      <td>7.0</td>\n",
       "    </tr>\n",
       "    <tr>\n",
       "      <th>2</th>\n",
       "      <td>6</td>\n",
       "      <td>231.0</td>\n",
       "      <td>7.0</td>\n",
       "    </tr>\n",
       "    <tr>\n",
       "      <th>3</th>\n",
       "      <td>7</td>\n",
       "      <td>222.0</td>\n",
       "      <td>8.0</td>\n",
       "    </tr>\n",
       "    <tr>\n",
       "      <th>4</th>\n",
       "      <td>8</td>\n",
       "      <td>286.0</td>\n",
       "      <td>8.0</td>\n",
       "    </tr>\n",
       "    <tr>\n",
       "      <th>5</th>\n",
       "      <td>9</td>\n",
       "      <td>49.0</td>\n",
       "      <td>4.0</td>\n",
       "    </tr>\n",
       "  </tbody>\n",
       "</table>\n",
       "</div>"
      ],
      "text/plain": [
       "   password_length  median_rank  median_strength\n",
       "0                4        326.0              6.0\n",
       "1                5        343.0              7.0\n",
       "2                6        231.0              7.0\n",
       "3                7        222.0              8.0\n",
       "4                8        286.0              8.0\n",
       "5                9         49.0              4.0"
      ]
     },
     "execution_count": 19,
     "metadata": {},
     "output_type": "execute_result"
    }
   ],
   "source": [
    "# Your answer here\n",
    "df.groupby('password_length').agg(\n",
    "    median_rank=('rank', 'median'),\n",
    "    median_strength=('strength', 'median')).reset_index()"
   ]
  },
  {
   "cell_type": "markdown",
   "metadata": {},
   "source": [
    "13. Add a column `strength_label` with values `weak` if strength is below 5, else `strong`. Use a lambda function."
   ]
  },
  {
   "cell_type": "code",
   "execution_count": 20,
   "metadata": {},
   "outputs": [
    {
     "data": {
      "text/plain": [
       "0    strong\n",
       "1      weak\n",
       "2      weak\n",
       "3      weak\n",
       "4    strong\n",
       "Name: strength_label, dtype: object"
      ]
     },
     "execution_count": 20,
     "metadata": {},
     "output_type": "execute_result"
    }
   ],
   "source": [
    "# Your answer here\n",
    "df['strength_label'] = df['strength'].apply(lambda x: 'weak' if x < 5 else 'strong')\n",
    "df['strength_label'].head(5)"
   ]
  },
  {
   "cell_type": "markdown",
   "metadata": {},
   "source": [
    "14. Create a column `high_value` with a value of `True` if value is in the top 10% of values in the dataset."
   ]
  },
  {
   "cell_type": "code",
   "execution_count": 21,
   "metadata": {},
   "outputs": [
    {
     "data": {
      "text/html": [
       "<div>\n",
       "<style scoped>\n",
       "    .dataframe tbody tr th:only-of-type {\n",
       "        vertical-align: middle;\n",
       "    }\n",
       "\n",
       "    .dataframe tbody tr th {\n",
       "        vertical-align: top;\n",
       "    }\n",
       "\n",
       "    .dataframe thead th {\n",
       "        text-align: right;\n",
       "    }\n",
       "</style>\n",
       "<table border=\"1\" class=\"dataframe\">\n",
       "  <thead>\n",
       "    <tr style=\"text-align: right;\">\n",
       "      <th></th>\n",
       "      <th>rank</th>\n",
       "      <th>password</th>\n",
       "      <th>category</th>\n",
       "      <th>value</th>\n",
       "      <th>time_unit</th>\n",
       "      <th>offline_crack_sec</th>\n",
       "      <th>rank_alt</th>\n",
       "      <th>strength</th>\n",
       "      <th>font_size</th>\n",
       "      <th>value_in_hours</th>\n",
       "      <th>password_length</th>\n",
       "      <th>strength_label</th>\n",
       "      <th>high_value</th>\n",
       "    </tr>\n",
       "  </thead>\n",
       "  <tbody>\n",
       "    <tr>\n",
       "      <th>0</th>\n",
       "      <td>1.0</td>\n",
       "      <td>password</td>\n",
       "      <td>password-related</td>\n",
       "      <td>6.91</td>\n",
       "      <td>years</td>\n",
       "      <td>2.170000e+00</td>\n",
       "      <td>1.0</td>\n",
       "      <td>8.0</td>\n",
       "      <td>11.0</td>\n",
       "      <td>60531.600000</td>\n",
       "      <td>8</td>\n",
       "      <td>strong</td>\n",
       "      <td>True</td>\n",
       "    </tr>\n",
       "    <tr>\n",
       "      <th>1</th>\n",
       "      <td>2.0</td>\n",
       "      <td>123456</td>\n",
       "      <td>simple-alphanumeric</td>\n",
       "      <td>18.52</td>\n",
       "      <td>minutes</td>\n",
       "      <td>1.110000e-05</td>\n",
       "      <td>2.0</td>\n",
       "      <td>4.0</td>\n",
       "      <td>8.0</td>\n",
       "      <td>0.308667</td>\n",
       "      <td>6</td>\n",
       "      <td>weak</td>\n",
       "      <td>False</td>\n",
       "    </tr>\n",
       "    <tr>\n",
       "      <th>2</th>\n",
       "      <td>3.0</td>\n",
       "      <td>12345678</td>\n",
       "      <td>simple-alphanumeric</td>\n",
       "      <td>1.29</td>\n",
       "      <td>days</td>\n",
       "      <td>1.110000e-03</td>\n",
       "      <td>3.0</td>\n",
       "      <td>4.0</td>\n",
       "      <td>8.0</td>\n",
       "      <td>30.960000</td>\n",
       "      <td>8</td>\n",
       "      <td>weak</td>\n",
       "      <td>False</td>\n",
       "    </tr>\n",
       "    <tr>\n",
       "      <th>3</th>\n",
       "      <td>4.0</td>\n",
       "      <td>1234</td>\n",
       "      <td>simple-alphanumeric</td>\n",
       "      <td>11.11</td>\n",
       "      <td>seconds</td>\n",
       "      <td>1.110000e-07</td>\n",
       "      <td>4.0</td>\n",
       "      <td>4.0</td>\n",
       "      <td>8.0</td>\n",
       "      <td>0.003086</td>\n",
       "      <td>4</td>\n",
       "      <td>weak</td>\n",
       "      <td>False</td>\n",
       "    </tr>\n",
       "    <tr>\n",
       "      <th>4</th>\n",
       "      <td>5.0</td>\n",
       "      <td>qwerty</td>\n",
       "      <td>simple-alphanumeric</td>\n",
       "      <td>3.72</td>\n",
       "      <td>days</td>\n",
       "      <td>3.210000e-03</td>\n",
       "      <td>5.0</td>\n",
       "      <td>8.0</td>\n",
       "      <td>11.0</td>\n",
       "      <td>89.280000</td>\n",
       "      <td>6</td>\n",
       "      <td>strong</td>\n",
       "      <td>False</td>\n",
       "    </tr>\n",
       "  </tbody>\n",
       "</table>\n",
       "</div>"
      ],
      "text/plain": [
       "   rank  password             category  value time_unit  offline_crack_sec  \\\n",
       "0   1.0  password     password-related   6.91     years       2.170000e+00   \n",
       "1   2.0    123456  simple-alphanumeric  18.52   minutes       1.110000e-05   \n",
       "2   3.0  12345678  simple-alphanumeric   1.29      days       1.110000e-03   \n",
       "3   4.0      1234  simple-alphanumeric  11.11   seconds       1.110000e-07   \n",
       "4   5.0    qwerty  simple-alphanumeric   3.72      days       3.210000e-03   \n",
       "\n",
       "   rank_alt  strength  font_size  value_in_hours  password_length  \\\n",
       "0       1.0       8.0       11.0    60531.600000                8   \n",
       "1       2.0       4.0        8.0        0.308667                6   \n",
       "2       3.0       4.0        8.0       30.960000                8   \n",
       "3       4.0       4.0        8.0        0.003086                4   \n",
       "4       5.0       8.0       11.0       89.280000                6   \n",
       "\n",
       "  strength_label  high_value  \n",
       "0         strong        True  \n",
       "1           weak       False  \n",
       "2           weak       False  \n",
       "3           weak       False  \n",
       "4         strong       False  "
      ]
     },
     "execution_count": 21,
     "metadata": {},
     "output_type": "execute_result"
    }
   ],
   "source": [
    "# Your answer here\n",
    "threshold = df['value_in_hours'].quantile(0.9)\n",
    "df['high_value'] = df['value_in_hours'] >=threshold\n",
    "df.head(5)"
   ]
  },
  {
   "cell_type": "markdown",
   "metadata": {},
   "source": [
    "15. Join all passwords within each `category` into a single string."
   ]
  },
  {
   "cell_type": "code",
   "execution_count": 22,
   "metadata": {},
   "outputs": [
    {
     "data": {
      "text/plain": [
       "category\n",
       "animal                 dragon monkey bigdog falcon phoenix tigers chi...\n",
       "cool-macho             mustang shadow master harley hunter ranger bus...\n",
       "fluffy                 love sunshine silver orange ginger summer prin...\n",
       "food                   pepper cheese coffee banana butter muffin hotd...\n",
       "name                   michael jennifer jordan superman thomas tigger...\n",
       "nerdy-pop              starwars computer merlin matrix snoopy boomer ...\n",
       "password-related       password letmein test pass access gateway plea...\n",
       "rebellious-rude        biteme freedom secret whatever badboy sexsex b...\n",
       "simple-alphanumeric    123456 12345678 1234 qwerty 12345 696969 abc12...\n",
       "sport                  baseball football soccer hockey dallas yankees...\n",
       "Name: password, dtype: object"
      ]
     },
     "execution_count": 22,
     "metadata": {},
     "output_type": "execute_result"
    }
   ],
   "source": [
    "# Your answer here\n",
    "df.groupby('category')['password'].agg(lambda x: ' '.join(x))"
   ]
  },
  {
   "cell_type": "markdown",
   "metadata": {},
   "source": [
    "**Bonus question 01**: What is the correlation between password length and strength? Create a scatter plot with regression line."
   ]
  },
  {
   "cell_type": "code",
   "execution_count": 23,
   "metadata": {},
   "outputs": [
    {
     "data": {
      "image/png": "[encoded data removed]",
      "text/plain": [
       "<Figure size 1000x600 with 1 Axes>"
      ]
     },
     "metadata": {},
     "output_type": "display_data"
    }
   ],
   "source": [
    "# Your answer here\n",
    "plt.figure(figsize=(10, 6))\n",
    "sns.regplot(x='password_length', y='strength', data=df)\n",
    "plt.title('Correlation between Password Length and Strength')\n",
    "plt.xlabel('Password Length')\n",
    "plt.ylabel('Password Strength')\n",
    "plt.show()"
   ]
  },
  {
   "cell_type": "markdown",
   "metadata": {},
   "source": [
    "**Bonus question 02**: Find all passwords with palindromes."
   ]
  },
  {
   "cell_type": "code",
   "execution_count": 24,
   "metadata": {},
   "outputs": [
    {
     "data": {
      "text/html": [
       "<div>\n",
       "<style scoped>\n",
       "    .dataframe tbody tr th:only-of-type {\n",
       "        vertical-align: middle;\n",
       "    }\n",
       "\n",
       "    .dataframe tbody tr th {\n",
       "        vertical-align: top;\n",
       "    }\n",
       "\n",
       "    .dataframe thead th {\n",
       "        text-align: right;\n",
       "    }\n",
       "</style>\n",
       "<table border=\"1\" class=\"dataframe\">\n",
       "  <thead>\n",
       "    <tr style=\"text-align: right;\">\n",
       "      <th></th>\n",
       "      <th>index</th>\n",
       "      <th>rank</th>\n",
       "      <th>password</th>\n",
       "      <th>category</th>\n",
       "      <th>value</th>\n",
       "      <th>time_unit</th>\n",
       "      <th>offline_crack_sec</th>\n",
       "      <th>rank_alt</th>\n",
       "      <th>strength</th>\n",
       "      <th>font_size</th>\n",
       "      <th>value_in_hours</th>\n",
       "      <th>password_length</th>\n",
       "      <th>strength_label</th>\n",
       "      <th>high_value</th>\n",
       "    </tr>\n",
       "  </thead>\n",
       "  <tbody>\n",
       "    <tr>\n",
       "      <th>0</th>\n",
       "      <td>18</td>\n",
       "      <td>19.0</td>\n",
       "      <td>111111</td>\n",
       "      <td>simple-alphanumeric</td>\n",
       "      <td>18.52</td>\n",
       "      <td>minutes</td>\n",
       "      <td>1.110000e-05</td>\n",
       "      <td>19.0</td>\n",
       "      <td>0.0</td>\n",
       "      <td>0.0</td>\n",
       "      <td>0.308667</td>\n",
       "      <td>6</td>\n",
       "      <td>weak</td>\n",
       "      <td>False</td>\n",
       "    </tr>\n",
       "    <tr>\n",
       "      <th>1</th>\n",
       "      <td>59</td>\n",
       "      <td>60.0</td>\n",
       "      <td>666666</td>\n",
       "      <td>simple-alphanumeric</td>\n",
       "      <td>18.52</td>\n",
       "      <td>minutes</td>\n",
       "      <td>1.110000e-05</td>\n",
       "      <td>60.0</td>\n",
       "      <td>0.0</td>\n",
       "      <td>0.0</td>\n",
       "      <td>0.308667</td>\n",
       "      <td>6</td>\n",
       "      <td>weak</td>\n",
       "      <td>False</td>\n",
       "    </tr>\n",
       "    <tr>\n",
       "      <th>2</th>\n",
       "      <td>76</td>\n",
       "      <td>77.0</td>\n",
       "      <td>1111</td>\n",
       "      <td>simple-alphanumeric</td>\n",
       "      <td>11.11</td>\n",
       "      <td>seconds</td>\n",
       "      <td>1.110000e-07</td>\n",
       "      <td>77.0</td>\n",
       "      <td>0.0</td>\n",
       "      <td>0.0</td>\n",
       "      <td>0.003086</td>\n",
       "      <td>4</td>\n",
       "      <td>weak</td>\n",
       "      <td>False</td>\n",
       "    </tr>\n",
       "    <tr>\n",
       "      <th>3</th>\n",
       "      <td>105</td>\n",
       "      <td>106.0</td>\n",
       "      <td>aaaaaa</td>\n",
       "      <td>simple-alphanumeric</td>\n",
       "      <td>3.72</td>\n",
       "      <td>days</td>\n",
       "      <td>3.210000e-03</td>\n",
       "      <td>106.0</td>\n",
       "      <td>0.0</td>\n",
       "      <td>0.0</td>\n",
       "      <td>89.280000</td>\n",
       "      <td>6</td>\n",
       "      <td>weak</td>\n",
       "      <td>False</td>\n",
       "    </tr>\n",
       "    <tr>\n",
       "      <th>4</th>\n",
       "      <td>144</td>\n",
       "      <td>145.0</td>\n",
       "      <td>xxxxxx</td>\n",
       "      <td>simple-alphanumeric</td>\n",
       "      <td>3.72</td>\n",
       "      <td>days</td>\n",
       "      <td>3.210000e-03</td>\n",
       "      <td>145.0</td>\n",
       "      <td>0.0</td>\n",
       "      <td>0.0</td>\n",
       "      <td>89.280000</td>\n",
       "      <td>6</td>\n",
       "      <td>weak</td>\n",
       "      <td>False</td>\n",
       "    </tr>\n",
       "    <tr>\n",
       "      <th>5</th>\n",
       "      <td>190</td>\n",
       "      <td>191.0</td>\n",
       "      <td>hannah</td>\n",
       "      <td>name</td>\n",
       "      <td>3.72</td>\n",
       "      <td>days</td>\n",
       "      <td>3.210000e-03</td>\n",
       "      <td>192.0</td>\n",
       "      <td>0.0</td>\n",
       "      <td>0.0</td>\n",
       "      <td>89.280000</td>\n",
       "      <td>6</td>\n",
       "      <td>weak</td>\n",
       "      <td>False</td>\n",
       "    </tr>\n",
       "    <tr>\n",
       "      <th>6</th>\n",
       "      <td>192</td>\n",
       "      <td>193.0</td>\n",
       "      <td>11111111</td>\n",
       "      <td>simple-alphanumeric</td>\n",
       "      <td>1.29</td>\n",
       "      <td>days</td>\n",
       "      <td>1.110000e-03</td>\n",
       "      <td>194.0</td>\n",
       "      <td>0.0</td>\n",
       "      <td>0.0</td>\n",
       "      <td>30.960000</td>\n",
       "      <td>8</td>\n",
       "      <td>weak</td>\n",
       "      <td>False</td>\n",
       "    </tr>\n",
       "    <tr>\n",
       "      <th>7</th>\n",
       "      <td>206</td>\n",
       "      <td>207.0</td>\n",
       "      <td>7777777</td>\n",
       "      <td>simple-alphanumeric</td>\n",
       "      <td>3.09</td>\n",
       "      <td>hours</td>\n",
       "      <td>1.110000e-04</td>\n",
       "      <td>208.0</td>\n",
       "      <td>0.0</td>\n",
       "      <td>0.0</td>\n",
       "      <td>3.090000</td>\n",
       "      <td>7</td>\n",
       "      <td>weak</td>\n",
       "      <td>False</td>\n",
       "    </tr>\n",
       "    <tr>\n",
       "      <th>8</th>\n",
       "      <td>277</td>\n",
       "      <td>278.0</td>\n",
       "      <td>222222</td>\n",
       "      <td>simple-alphanumeric</td>\n",
       "      <td>18.52</td>\n",
       "      <td>minutes</td>\n",
       "      <td>1.110000e-05</td>\n",
       "      <td>279.0</td>\n",
       "      <td>0.0</td>\n",
       "      <td>0.0</td>\n",
       "      <td>0.308667</td>\n",
       "      <td>6</td>\n",
       "      <td>weak</td>\n",
       "      <td>False</td>\n",
       "    </tr>\n",
       "    <tr>\n",
       "      <th>9</th>\n",
       "      <td>285</td>\n",
       "      <td>286.0</td>\n",
       "      <td>xxxxxxxx</td>\n",
       "      <td>simple-alphanumeric</td>\n",
       "      <td>6.91</td>\n",
       "      <td>years</td>\n",
       "      <td>2.170000e+00</td>\n",
       "      <td>287.0</td>\n",
       "      <td>0.0</td>\n",
       "      <td>0.0</td>\n",
       "      <td>60531.600000</td>\n",
       "      <td>8</td>\n",
       "      <td>weak</td>\n",
       "      <td>True</td>\n",
       "    </tr>\n",
       "    <tr>\n",
       "      <th>10</th>\n",
       "      <td>286</td>\n",
       "      <td>287.0</td>\n",
       "      <td>777777</td>\n",
       "      <td>simple-alphanumeric</td>\n",
       "      <td>18.52</td>\n",
       "      <td>minutes</td>\n",
       "      <td>1.110000e-05</td>\n",
       "      <td>288.0</td>\n",
       "      <td>0.0</td>\n",
       "      <td>0.0</td>\n",
       "      <td>0.308667</td>\n",
       "      <td>6</td>\n",
       "      <td>weak</td>\n",
       "      <td>False</td>\n",
       "    </tr>\n",
       "    <tr>\n",
       "      <th>11</th>\n",
       "      <td>291</td>\n",
       "      <td>292.0</td>\n",
       "      <td>88888888</td>\n",
       "      <td>simple-alphanumeric</td>\n",
       "      <td>1.29</td>\n",
       "      <td>days</td>\n",
       "      <td>1.110000e-03</td>\n",
       "      <td>293.0</td>\n",
       "      <td>0.0</td>\n",
       "      <td>0.0</td>\n",
       "      <td>30.960000</td>\n",
       "      <td>8</td>\n",
       "      <td>weak</td>\n",
       "      <td>False</td>\n",
       "    </tr>\n",
       "    <tr>\n",
       "      <th>12</th>\n",
       "      <td>314</td>\n",
       "      <td>315.0</td>\n",
       "      <td>2112</td>\n",
       "      <td>simple-alphanumeric</td>\n",
       "      <td>11.11</td>\n",
       "      <td>seconds</td>\n",
       "      <td>1.110000e-07</td>\n",
       "      <td>316.0</td>\n",
       "      <td>1.0</td>\n",
       "      <td>4.0</td>\n",
       "      <td>0.003086</td>\n",
       "      <td>4</td>\n",
       "      <td>weak</td>\n",
       "      <td>False</td>\n",
       "    </tr>\n",
       "    <tr>\n",
       "      <th>13</th>\n",
       "      <td>324</td>\n",
       "      <td>325.0</td>\n",
       "      <td>7777</td>\n",
       "      <td>simple-alphanumeric</td>\n",
       "      <td>11.11</td>\n",
       "      <td>seconds</td>\n",
       "      <td>1.110000e-07</td>\n",
       "      <td>326.0</td>\n",
       "      <td>0.0</td>\n",
       "      <td>0.0</td>\n",
       "      <td>0.003086</td>\n",
       "      <td>4</td>\n",
       "      <td>weak</td>\n",
       "      <td>False</td>\n",
       "    </tr>\n",
       "    <tr>\n",
       "      <th>14</th>\n",
       "      <td>352</td>\n",
       "      <td>353.0</td>\n",
       "      <td>zzzzzz</td>\n",
       "      <td>simple-alphanumeric</td>\n",
       "      <td>3.72</td>\n",
       "      <td>days</td>\n",
       "      <td>3.210000e-03</td>\n",
       "      <td>354.0</td>\n",
       "      <td>0.0</td>\n",
       "      <td>0.0</td>\n",
       "      <td>89.280000</td>\n",
       "      <td>6</td>\n",
       "      <td>weak</td>\n",
       "      <td>False</td>\n",
       "    </tr>\n",
       "    <tr>\n",
       "      <th>15</th>\n",
       "      <td>364</td>\n",
       "      <td>365.0</td>\n",
       "      <td>555555</td>\n",
       "      <td>simple-alphanumeric</td>\n",
       "      <td>18.52</td>\n",
       "      <td>minutes</td>\n",
       "      <td>1.110000e-05</td>\n",
       "      <td>366.0</td>\n",
       "      <td>0.0</td>\n",
       "      <td>0.0</td>\n",
       "      <td>0.308667</td>\n",
       "      <td>6</td>\n",
       "      <td>weak</td>\n",
       "      <td>False</td>\n",
       "    </tr>\n",
       "    <tr>\n",
       "      <th>16</th>\n",
       "      <td>371</td>\n",
       "      <td>372.0</td>\n",
       "      <td>2222</td>\n",
       "      <td>simple-alphanumeric</td>\n",
       "      <td>11.11</td>\n",
       "      <td>seconds</td>\n",
       "      <td>1.110000e-07</td>\n",
       "      <td>373.0</td>\n",
       "      <td>0.0</td>\n",
       "      <td>0.0</td>\n",
       "      <td>0.003086</td>\n",
       "      <td>4</td>\n",
       "      <td>weak</td>\n",
       "      <td>False</td>\n",
       "    </tr>\n",
       "    <tr>\n",
       "      <th>17</th>\n",
       "      <td>373</td>\n",
       "      <td>374.0</td>\n",
       "      <td>4444</td>\n",
       "      <td>simple-alphanumeric</td>\n",
       "      <td>11.11</td>\n",
       "      <td>seconds</td>\n",
       "      <td>1.110000e-07</td>\n",
       "      <td>375.0</td>\n",
       "      <td>0.0</td>\n",
       "      <td>0.0</td>\n",
       "      <td>0.003086</td>\n",
       "      <td>4</td>\n",
       "      <td>weak</td>\n",
       "      <td>False</td>\n",
       "    </tr>\n",
       "    <tr>\n",
       "      <th>18</th>\n",
       "      <td>409</td>\n",
       "      <td>410.0</td>\n",
       "      <td>11111</td>\n",
       "      <td>simple-alphanumeric</td>\n",
       "      <td>1.85</td>\n",
       "      <td>minutes</td>\n",
       "      <td>1.110000e-06</td>\n",
       "      <td>411.0</td>\n",
       "      <td>0.0</td>\n",
       "      <td>0.0</td>\n",
       "      <td>0.030833</td>\n",
       "      <td>5</td>\n",
       "      <td>weak</td>\n",
       "      <td>False</td>\n",
       "    </tr>\n",
       "    <tr>\n",
       "      <th>19</th>\n",
       "      <td>413</td>\n",
       "      <td>414.0</td>\n",
       "      <td>123321</td>\n",
       "      <td>simple-alphanumeric</td>\n",
       "      <td>18.52</td>\n",
       "      <td>minutes</td>\n",
       "      <td>1.110000e-05</td>\n",
       "      <td>415.0</td>\n",
       "      <td>4.0</td>\n",
       "      <td>8.0</td>\n",
       "      <td>0.308667</td>\n",
       "      <td>6</td>\n",
       "      <td>weak</td>\n",
       "      <td>False</td>\n",
       "    </tr>\n",
       "    <tr>\n",
       "      <th>20</th>\n",
       "      <td>420</td>\n",
       "      <td>421.0</td>\n",
       "      <td>999999</td>\n",
       "      <td>simple-alphanumeric</td>\n",
       "      <td>18.52</td>\n",
       "      <td>minutes</td>\n",
       "      <td>1.110000e-05</td>\n",
       "      <td>422.0</td>\n",
       "      <td>0.0</td>\n",
       "      <td>0.0</td>\n",
       "      <td>0.308667</td>\n",
       "      <td>6</td>\n",
       "      <td>weak</td>\n",
       "      <td>False</td>\n",
       "    </tr>\n",
       "    <tr>\n",
       "      <th>21</th>\n",
       "      <td>458</td>\n",
       "      <td>459.0</td>\n",
       "      <td>333333</td>\n",
       "      <td>simple-alphanumeric</td>\n",
       "      <td>18.52</td>\n",
       "      <td>minutes</td>\n",
       "      <td>1.110000e-05</td>\n",
       "      <td>461.0</td>\n",
       "      <td>0.0</td>\n",
       "      <td>0.0</td>\n",
       "      <td>0.308667</td>\n",
       "      <td>6</td>\n",
       "      <td>weak</td>\n",
       "      <td>False</td>\n",
       "    </tr>\n",
       "    <tr>\n",
       "      <th>22</th>\n",
       "      <td>472</td>\n",
       "      <td>473.0</td>\n",
       "      <td>xxxx</td>\n",
       "      <td>simple-alphanumeric</td>\n",
       "      <td>7.92</td>\n",
       "      <td>minutes</td>\n",
       "      <td>4.750000e-06</td>\n",
       "      <td>475.0</td>\n",
       "      <td>0.0</td>\n",
       "      <td>0.0</td>\n",
       "      <td>0.132000</td>\n",
       "      <td>4</td>\n",
       "      <td>weak</td>\n",
       "      <td>False</td>\n",
       "    </tr>\n",
       "    <tr>\n",
       "      <th>23</th>\n",
       "      <td>489</td>\n",
       "      <td>490.0</td>\n",
       "      <td>888888</td>\n",
       "      <td>simple-alphanumeric</td>\n",
       "      <td>18.52</td>\n",
       "      <td>minutes</td>\n",
       "      <td>1.110000e-05</td>\n",
       "      <td>492.0</td>\n",
       "      <td>0.0</td>\n",
       "      <td>0.0</td>\n",
       "      <td>0.308667</td>\n",
       "      <td>6</td>\n",
       "      <td>weak</td>\n",
       "      <td>False</td>\n",
       "    </tr>\n",
       "  </tbody>\n",
       "</table>\n",
       "</div>"
      ],
      "text/plain": [
       "    index   rank  password             category  value time_unit  \\\n",
       "0      18   19.0    111111  simple-alphanumeric  18.52   minutes   \n",
       "1      59   60.0    666666  simple-alphanumeric  18.52   minutes   \n",
       "2      76   77.0      1111  simple-alphanumeric  11.11   seconds   \n",
       "3     105  106.0    aaaaaa  simple-alphanumeric   3.72      days   \n",
       "4     144  145.0    xxxxxx  simple-alphanumeric   3.72      days   \n",
       "5     190  191.0    hannah                 name   3.72      days   \n",
       "6     192  193.0  11111111  simple-alphanumeric   1.29      days   \n",
       "7     206  207.0   7777777  simple-alphanumeric   3.09     hours   \n",
       "8     277  278.0    222222  simple-alphanumeric  18.52   minutes   \n",
       "9     285  286.0  xxxxxxxx  simple-alphanumeric   6.91     years   \n",
       "10    286  287.0    777777  simple-alphanumeric  18.52   minutes   \n",
       "11    291  292.0  88888888  simple-alphanumeric   1.29      days   \n",
       "12    314  315.0      2112  simple-alphanumeric  11.11   seconds   \n",
       "13    324  325.0      7777  simple-alphanumeric  11.11   seconds   \n",
       "14    352  353.0    zzzzzz  simple-alphanumeric   3.72      days   \n",
       "15    364  365.0    555555  simple-alphanumeric  18.52   minutes   \n",
       "16    371  372.0      2222  simple-alphanumeric  11.11   seconds   \n",
       "17    373  374.0      4444  simple-alphanumeric  11.11   seconds   \n",
       "18    409  410.0     11111  simple-alphanumeric   1.85   minutes   \n",
       "19    413  414.0    123321  simple-alphanumeric  18.52   minutes   \n",
       "20    420  421.0    999999  simple-alphanumeric  18.52   minutes   \n",
       "21    458  459.0    333333  simple-alphanumeric  18.52   minutes   \n",
       "22    472  473.0      xxxx  simple-alphanumeric   7.92   minutes   \n",
       "23    489  490.0    888888  simple-alphanumeric  18.52   minutes   \n",
       "\n",
       "    offline_crack_sec  rank_alt  strength  font_size  value_in_hours  \\\n",
       "0        1.110000e-05      19.0       0.0        0.0        0.308667   \n",
       "1        1.110000e-05      60.0       0.0        0.0        0.308667   \n",
       "2        1.110000e-07      77.0       0.0        0.0        0.003086   \n",
       "3        3.210000e-03     106.0       0.0        0.0       89.280000   \n",
       "4        3.210000e-03     145.0       0.0        0.0       89.280000   \n",
       "5        3.210000e-03     192.0       0.0        0.0       89.280000   \n",
       "6        1.110000e-03     194.0       0.0        0.0       30.960000   \n",
       "7        1.110000e-04     208.0       0.0        0.0        3.090000   \n",
       "8        1.110000e-05     279.0       0.0        0.0        0.308667   \n",
       "9        2.170000e+00     287.0       0.0        0.0    60531.600000   \n",
       "10       1.110000e-05     288.0       0.0        0.0        0.308667   \n",
       "11       1.110000e-03     293.0       0.0        0.0       30.960000   \n",
       "12       1.110000e-07     316.0       1.0        4.0        0.003086   \n",
       "13       1.110000e-07     326.0       0.0        0.0        0.003086   \n",
       "14       3.210000e-03     354.0       0.0        0.0       89.280000   \n",
       "15       1.110000e-05     366.0       0.0        0.0        0.308667   \n",
       "16       1.110000e-07     373.0       0.0        0.0        0.003086   \n",
       "17       1.110000e-07     375.0       0.0        0.0        0.003086   \n",
       "18       1.110000e-06     411.0       0.0        0.0        0.030833   \n",
       "19       1.110000e-05     415.0       4.0        8.0        0.308667   \n",
       "20       1.110000e-05     422.0       0.0        0.0        0.308667   \n",
       "21       1.110000e-05     461.0       0.0        0.0        0.308667   \n",
       "22       4.750000e-06     475.0       0.0        0.0        0.132000   \n",
       "23       1.110000e-05     492.0       0.0        0.0        0.308667   \n",
       "\n",
       "    password_length strength_label  high_value  \n",
       "0                 6           weak       False  \n",
       "1                 6           weak       False  \n",
       "2                 4           weak       False  \n",
       "3                 6           weak       False  \n",
       "4                 6           weak       False  \n",
       "5                 6           weak       False  \n",
       "6                 8           weak       False  \n",
       "7                 7           weak       False  \n",
       "8                 6           weak       False  \n",
       "9                 8           weak        True  \n",
       "10                6           weak       False  \n",
       "11                8           weak       False  \n",
       "12                4           weak       False  \n",
       "13                4           weak       False  \n",
       "14                6           weak       False  \n",
       "15                6           weak       False  \n",
       "16                4           weak       False  \n",
       "17                4           weak       False  \n",
       "18                5           weak       False  \n",
       "19                6           weak       False  \n",
       "20                6           weak       False  \n",
       "21                6           weak       False  \n",
       "22                4           weak       False  \n",
       "23                6           weak       False  "
      ]
     },
     "execution_count": 24,
     "metadata": {},
     "output_type": "execute_result"
    }
   ],
   "source": [
    "# Your answer here\n",
    "def is_palindrome(password):\n",
    "    return password == password[::-1]\n",
    "df[df['password'].apply(is_palindrome)].reset_index()"
   ]
  }
 ],
 "metadata": {
  "kernelspec": {
   "display_name": "base",
   "language": "python",
   "name": "python3"
  },
  "language_info": {
   "codemirror_mode": {
    "name": "ipython",
    "version": 3
   },
   "file_extension": ".py",
   "mimetype": "text/x-python",
   "name": "python",
   "nbconvert_exporter": "python",
   "pygments_lexer": "ipython3",
   "version": "3.11.5"
  }
 },
 "nbformat": 4,
 "nbformat_minor": 2
}
